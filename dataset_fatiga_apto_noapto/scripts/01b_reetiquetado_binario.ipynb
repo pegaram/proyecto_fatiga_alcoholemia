{
 "cells": [
  {
   "cell_type": "markdown",
   "id": "e162833b",
   "metadata": {},
   "source": [
    "# 01b_reetiquetado_binario.ipynb\n",
    "\n",
    "## Reetiquetado Binario: Apto vs NoApto\n",
    "\n",
    "Este notebook carga las carpetas originales de imágenes de tres clases (“Atento”, “Bostezo” y “Ojos cerrados”) y las reetiqueta en dos carpetas: Apto y NoApto.\n",
    "\n",
    "**Estructura general:**\n",
    "1. Configuración de rutas\n",
    "2. Visualización rápida del dataset original\n",
    "3. Funciones de reetiquetado\n",
    "4. Ejecución del reetiquetado\n",
    "5. Verificación de la nueva estructura\n",
    "\n",
    "---\n",
    "- **Apto**   ↔ imágenes de la clase `Atento`  \n",
    "- **NoApto** ↔ imágenes de `Bostezo` + `Ojos_cerrados`\n",
    "\n",
    "Vamos paso a paso: primero configuramos rutas y dependencias, luego creamos la estructura, definimos la función de reetiquetado, la ejecutamos y, finalmente, verificamos.\n",
    "\n",
    "---"
   ]
  },
  {
   "cell_type": "code",
   "execution_count": 8,
   "id": "c1e500cd",
   "metadata": {},
   "outputs": [],
   "source": [
    "\n",
    "## 1. Imports y configuración de rutas\n",
    "\n",
    "from pathlib import Path\n",
    "import shutil, os\n",
    "from tqdm import tqdm\n",
    "\n",
    "# ------------------------\n",
    "# Ajusta aquí si cambias nombres\n",
    "# ------------------------\n",
    "ROOT = Path(\"../data/balanced_frames\")   # Origen: Atento, Bostezo, Ojos_cerrados\n",
    "DEST = Path(\"../data/binario\")           # Destino: Apto, NoApto\n",
    "\n",
    "CLASE_ATENTO   = \"Atento\"\n",
    "CLASE_NOAPTO   = [\"Bostezo\", \"Eyes_Closed\"]\n",
    "\n",
    "# Extensiones de imagen a procesar\n",
    "EXTS = [\"*.jpg\", \"*.jpeg\", \"*.png\"]\n"
   ]
  },
  {
   "cell_type": "code",
   "execution_count": 9,
   "id": "38a162ae",
   "metadata": {},
   "outputs": [
    {
     "name": "stdout",
     "output_type": "stream",
     "text": [
      "Estructura de destino creada:\n",
      " - ..\\data\\binario\\Apto\n",
      " - ..\\data\\binario\\NoApto\n"
     ]
    }
   ],
   "source": [
    "# Creamos las carpetas data/binario/Apto  y data/binario/NoApto  \n",
    "for label in [\"Apto\", \"NoApto\"]:\n",
    "    (DEST / label).mkdir(parents=True, exist_ok=True)\n",
    "\n",
    "print(\"Estructura de destino creada:\")\n",
    "for path in (DEST / \"Apto\", DEST / \"NoApto\"):\n",
    "    print(\" -\", path)\n"
   ]
  },
  {
   "cell_type": "code",
   "execution_count": 10,
   "id": "4bd635db",
   "metadata": {},
   "outputs": [],
   "source": [
    "def reetiquetar(origen_root: Path, destino_root: Path):\n",
    "    \"\"\"\n",
    "    Recorre cada subcarpeta de origen_root (Atento, Bostezo, Ojos_cerrados)\n",
    "    y copia las imágenes a destino_root/Apto o destino_root/NoApto.\n",
    "    \"\"\"\n",
    "    for clase_dir in origen_root.iterdir():\n",
    "        if not clase_dir.is_dir():\n",
    "            continue\n",
    "\n",
    "        # Determinamos la etiqueta binaria\n",
    "        if clase_dir.name == CLASE_ATENTO:\n",
    "            etiqueta = \"Apto\"\n",
    "        elif clase_dir.name in CLASE_NOAPTO:\n",
    "            etiqueta = \"NoApto\"\n",
    "        else:\n",
    "            # Saltamos carpetas inesperadas\n",
    "            print(f\"⚠️  Carpeta no reconocida: {clase_dir.name}, se omite.\")\n",
    "            continue\n",
    "\n",
    "        dst_dir = destino_root / etiqueta\n",
    "        # Iteramos por cada extensión\n",
    "        for ext in EXTS:\n",
    "            for img_path in clase_dir.glob(ext):\n",
    "                shutil.copy2(img_path, dst_dir / img_path.name)\n",
    "\n",
    "        print(f\"✅  Copiadas imágenes de '{clase_dir.name}' → '{etiqueta}'\")\n"
   ]
  },
  {
   "cell_type": "code",
   "execution_count": 11,
   "id": "9d6f227c",
   "metadata": {},
   "outputs": [
    {
     "name": "stdout",
     "output_type": "stream",
     "text": [
      "Iniciando reetiquetado binario...\n",
      "✅  Copiadas imágenes de 'Atento' → 'Apto'\n",
      "✅  Copiadas imágenes de 'Bostezo' → 'NoApto'\n",
      "⚠️  Carpeta no reconocida: Distraído, se omite.\n",
      "✅  Copiadas imágenes de 'Eyes_Closed' → 'NoApto'\n",
      "⚠️  Carpeta no reconocida: Head_Nodding, se omite.\n",
      "🎉 Reetiquetado completado.\n"
     ]
    }
   ],
   "source": [
    "if __name__ == \"__main__\":\n",
    "    print(\"Iniciando reetiquetado binario...\")\n",
    "    reetiquetar(ROOT, DEST)\n",
    "    print(\"🎉 Reetiquetado completado.\")\n"
   ]
  },
  {
   "cell_type": "code",
   "execution_count": 13,
   "id": "547e70fa",
   "metadata": {},
   "outputs": [
    {
     "name": "stdout",
     "output_type": "stream",
     "text": [
      "Conteo de imágenes en data/binario:\n",
      " - Apto: 5000 imágenes\n",
      " - NoApto: 4868 imágenes\n"
     ]
    }
   ],
   "source": [
    "# 5. Verificación final\n",
    "print(\"Conteo de imágenes en data/binario:\")\n",
    "for label in [\"Apto\", \"NoApto\"]:\n",
    "    # Busca cualquier archivo con extensión de imagen en subcarpetas\n",
    "    imgs = list((DEST / label).rglob(\"*.*\"))\n",
    "    print(f\" - {label}: {len(imgs)} imágenes\")\n",
    "\n"
   ]
  }
 ],
 "metadata": {
  "kernelspec": {
   "display_name": "env_multiclase_fatiga",
   "language": "python",
   "name": "python3"
  },
  "language_info": {
   "codemirror_mode": {
    "name": "ipython",
    "version": 3
   },
   "file_extension": ".py",
   "mimetype": "text/x-python",
   "name": "python",
   "nbconvert_exporter": "python",
   "pygments_lexer": "ipython3",
   "version": "3.10.10"
  }
 },
 "nbformat": 4,
 "nbformat_minor": 5
}
