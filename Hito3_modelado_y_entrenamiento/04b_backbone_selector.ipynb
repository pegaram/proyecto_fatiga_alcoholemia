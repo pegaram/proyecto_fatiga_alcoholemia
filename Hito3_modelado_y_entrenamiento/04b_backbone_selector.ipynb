{
 "cells": [
  {
   "cell_type": "markdown",
   "id": "c92c7070",
   "metadata": {},
   "source": [
    "# Evaluación Comparativa de Backbones CNN para Clasificación Binaria\n",
    "\n",
    "En este cuaderno se evalúan de forma automática varios modelos preentrenados (backbones) sobre nuestro conjunto de datos binario. El objetivo es determinar cuál de ellos ofrece el mejor rendimiento en términos de precisión, pérdida de validación, F1-Score y tiempo de entrenamiento, para seleccionarlo como base del entrenamiento final.\n",
    "\n",
    "Este proceso es equivalente a un \"LazyPredict\" adaptado a Deep Learning con Keras.\n",
    "\n"
   ]
  },
  {
   "cell_type": "markdown",
   "id": "a0e38afe",
   "metadata": {},
   "source": [
    "## Paso 1 – Importación de librerías\n",
    "\n",
    "Importamos todas las dependencias necesarias para definir los modelos, gestionar los datos y registrar los resultados.\n"
   ]
  },
  {
   "cell_type": "code",
   "execution_count": 1,
   "id": "b6a2212e",
   "metadata": {},
   "outputs": [],
   "source": [
    "import time\n",
    "import pandas as pd\n",
    "import numpy as np\n",
    "from pathlib import Path\n",
    "from sklearn.metrics import f1_score\n",
    "\n",
    "import tensorflow as tf\n",
    "from tensorflow.keras.models import Model\n",
    "from tensorflow.keras.layers import Dense, GlobalAveragePooling2D\n",
    "from tensorflow.keras.optimizers import Adam\n",
    "from tensorflow.keras.callbacks import EarlyStopping\n",
    "from tensorflow.keras.preprocessing.image import ImageDataGenerator\n",
    "from tensorflow.keras.applications import (\n",
    "    MobileNetV2, EfficientNetB0, ResNet50, DenseNet121,\n",
    "    InceptionV3, NASNetMobile, Xception, VGG16\n",
    ")\n"
   ]
  },
  {
   "cell_type": "markdown",
   "id": "a6be3db9",
   "metadata": {},
   "source": [
    "## Paso 2 – Rutas y carga de datos\n",
    "\n",
    "Cargamos los conjuntos de entrenamiento, validación y prueba desde archivos CSV, y los preparamos para su uso mediante `ImageDataGenerator`. Esta fase incluye la normalización y el redimensionamiento de las imágenes.\n"
   ]
  },
  {
   "cell_type": "code",
   "execution_count": 9,
   "id": "2df4dba4",
   "metadata": {},
   "outputs": [
    {
     "name": "stdout",
     "output_type": "stream",
     "text": [
      "Found 6907 validated image filenames belonging to 2 classes.\n",
      "Found 987 validated image filenames belonging to 2 classes.\n"
     ]
    }
   ],
   "source": [
    "from pathlib import Path\n",
    "import pandas as pd\n",
    "from tensorflow.keras.preprocessing.image import ImageDataGenerator\n",
    "\n",
    "# Rutas de los CSVs\n",
    "DATA_SPLIT_DIR = Path(\"../data/binario_split\")\n",
    "TRAIN_CSV = DATA_SPLIT_DIR / \"train.csv\"\n",
    "VAL_CSV   = DATA_SPLIT_DIR / \"val.csv\"\n",
    "\n",
    "# Parámetros\n",
    "IMG_SIZE = (224, 224)\n",
    "BATCH_SIZE = 32\n",
    "\n",
    "# Carga de los CSVs sin codificación\n",
    "df_train = pd.read_csv(TRAIN_CSV)\n",
    "df_val = pd.read_csv(VAL_CSV)\n",
    "\n",
    "# Preprocesamiento de imágenes\n",
    "datagen = ImageDataGenerator(rescale=1./255)\n",
    "\n",
    "# Generador para entrenamiento\n",
    "train_gen = datagen.flow_from_dataframe(\n",
    "    dataframe=df_train,\n",
    "    x_col=\"filepath\",      # columna con la ruta a la imagen\n",
    "    y_col=\"label\",         # etiqueta binaria como string\n",
    "    directory=None,        # rutas ya incluidas en 'filepath'\n",
    "    target_size=IMG_SIZE,\n",
    "    batch_size=BATCH_SIZE,\n",
    "    class_mode=\"binary\"\n",
    ")\n",
    "\n",
    "# Generador para validación\n",
    "val_gen = datagen.flow_from_dataframe(\n",
    "    dataframe=df_val,\n",
    "    x_col=\"filepath\",\n",
    "    y_col=\"label\",\n",
    "    directory=None,\n",
    "    target_size=IMG_SIZE,\n",
    "    batch_size=BATCH_SIZE,\n",
    "    class_mode=\"binary\"\n",
    ")\n",
    "\n"
   ]
  },
  {
   "cell_type": "markdown",
   "id": "1514f3e2",
   "metadata": {},
   "source": [
    "## Paso 3 – Función constructora de modelos\n",
    "\n",
    "Definimos una función que crea un modelo CNN con un backbone preentrenado y una capa densa de salida para clasificación binaria. Se congelan los pesos del modelo base para reducir el tiempo de entrenamiento.\n"
   ]
  },
  {
   "cell_type": "code",
   "execution_count": 10,
   "id": "3017379f",
   "metadata": {},
   "outputs": [],
   "source": [
    "def build_model(backbone_fn, input_shape=(224, 224, 3)):\n",
    "    base = backbone_fn(include_top=False, weights=\"imagenet\", input_shape=input_shape)\n",
    "    base.trainable = False  # No entrenamos el backbone\n",
    "\n",
    "    x = GlobalAveragePooling2D()(base.output)\n",
    "    output = Dense(1, activation='sigmoid')(x)\n",
    "\n",
    "    model = Model(inputs=base.input, outputs=output)\n",
    "    model.compile(optimizer=Adam(1e-4), loss='binary_crossentropy', metrics=['accuracy'])\n",
    "    return model\n"
   ]
  },
  {
   "cell_type": "markdown",
   "id": "36461229",
   "metadata": {},
   "source": [
    "## Paso 4 – Selección de modelos a comparar\n",
    "\n",
    "Especificamos los modelos preentrenados que evaluaremos como posibles candidatos a utilizar en el entrenamiento final.\n"
   ]
  },
  {
   "cell_type": "code",
   "execution_count": 11,
   "id": "d3e3347a",
   "metadata": {},
   "outputs": [],
   "source": [
    "backbones = {\n",
    "    \"MobileNetV2\": MobileNetV2,\n",
    "    \"EfficientNetB0\": EfficientNetB0,\n",
    "    \"ResNet50\": ResNet50,\n",
    "    \"DenseNet121\": DenseNet121,\n",
    "    \"InceptionV3\": InceptionV3,\n",
    "    \"NASNetMobile\": NASNetMobile,\n",
    "    \"Xception\": Xception,\n",
    "    \"VGG16\": VGG16\n",
    "}\n"
   ]
  },
  {
   "cell_type": "markdown",
   "id": "3e4f6672",
   "metadata": {},
   "source": [
    "## Paso 5 – Entrenamiento y evaluación de cada backbone\n",
    "\n",
    "Entrenamos cada uno de los modelos por unas pocas épocas para tener una idea comparativa. Se mide el tiempo de entrenamiento, la precisión de validación, la pérdida y el F1-Score.\n"
   ]
  },
  {
   "cell_type": "code",
   "execution_count": 12,
   "id": "d12ff996",
   "metadata": {},
   "outputs": [
    {
     "name": "stdout",
     "output_type": "stream",
     "text": [
      "\n",
      "🔍 Entrenando backbone: MobileNetV2\n"
     ]
    },
    {
     "name": "stderr",
     "output_type": "stream",
     "text": [
      "c:\\Users\\isard\\ProyectosLocales\\env_multiclase_fatiga\\lib\\site-packages\\keras\\src\\trainers\\data_adapters\\py_dataset_adapter.py:121: UserWarning: Your `PyDataset` class should call `super().__init__(**kwargs)` in its constructor. `**kwargs` can include `workers`, `use_multiprocessing`, `max_queue_size`. Do not pass these arguments to `fit()`, as they will be ignored.\n",
      "  self._warn_if_super_not_called()\n"
     ]
    },
    {
     "name": "stdout",
     "output_type": "stream",
     "text": [
      "\u001b[1m31/31\u001b[0m \u001b[32m━━━━━━━━━━━━━━━━━━━━\u001b[0m\u001b[37m\u001b[0m \u001b[1m6s\u001b[0m 169ms/step\n",
      "\n",
      "🔍 Entrenando backbone: EfficientNetB0\n",
      "\u001b[1m31/31\u001b[0m \u001b[32m━━━━━━━━━━━━━━━━━━━━\u001b[0m\u001b[37m\u001b[0m \u001b[1m12s\u001b[0m 343ms/step\n",
      "\n",
      "🔍 Entrenando backbone: ResNet50\n",
      "Downloading data from https://storage.googleapis.com/tensorflow/keras-applications/resnet/resnet50_weights_tf_dim_ordering_tf_kernels_notop.h5\n",
      "\u001b[1m94765736/94765736\u001b[0m \u001b[32m━━━━━━━━━━━━━━━━━━━━\u001b[0m\u001b[37m\u001b[0m \u001b[1m3s\u001b[0m 0us/step\n",
      "\u001b[1m31/31\u001b[0m \u001b[32m━━━━━━━━━━━━━━━━━━━━\u001b[0m\u001b[37m\u001b[0m \u001b[1m23s\u001b[0m 698ms/step\n",
      "\n",
      "🔍 Entrenando backbone: DenseNet121\n",
      "Downloading data from https://storage.googleapis.com/tensorflow/keras-applications/densenet/densenet121_weights_tf_dim_ordering_tf_kernels_notop.h5\n",
      "\u001b[1m29084464/29084464\u001b[0m \u001b[32m━━━━━━━━━━━━━━━━━━━━\u001b[0m\u001b[37m\u001b[0m \u001b[1m2s\u001b[0m 0us/step\n",
      "\u001b[1m31/31\u001b[0m \u001b[32m━━━━━━━━━━━━━━━━━━━━\u001b[0m\u001b[37m\u001b[0m \u001b[1m30s\u001b[0m 888ms/step\n",
      "\n",
      "🔍 Entrenando backbone: InceptionV3\n",
      "Downloading data from https://storage.googleapis.com/tensorflow/keras-applications/inception_v3/inception_v3_weights_tf_dim_ordering_tf_kernels_notop.h5\n",
      "\u001b[1m87910968/87910968\u001b[0m \u001b[32m━━━━━━━━━━━━━━━━━━━━\u001b[0m\u001b[37m\u001b[0m \u001b[1m3s\u001b[0m 0us/step\n",
      "\u001b[1m31/31\u001b[0m \u001b[32m━━━━━━━━━━━━━━━━━━━━\u001b[0m\u001b[37m\u001b[0m \u001b[1m15s\u001b[0m 441ms/step\n",
      "\n",
      "🔍 Entrenando backbone: NASNetMobile\n",
      "Downloading data from https://storage.googleapis.com/tensorflow/keras-applications/nasnet/NASNet-mobile-no-top.h5\n",
      "\u001b[1m19993432/19993432\u001b[0m \u001b[32m━━━━━━━━━━━━━━━━━━━━\u001b[0m\u001b[37m\u001b[0m \u001b[1m1s\u001b[0m 0us/step\n",
      "\u001b[1m31/31\u001b[0m \u001b[32m━━━━━━━━━━━━━━━━━━━━\u001b[0m\u001b[37m\u001b[0m \u001b[1m14s\u001b[0m 360ms/step\n",
      "\n",
      "🔍 Entrenando backbone: Xception\n",
      "Downloading data from https://storage.googleapis.com/tensorflow/keras-applications/xception/xception_weights_tf_dim_ordering_tf_kernels_notop.h5\n",
      "\u001b[1m83683744/83683744\u001b[0m \u001b[32m━━━━━━━━━━━━━━━━━━━━\u001b[0m\u001b[37m\u001b[0m \u001b[1m3s\u001b[0m 0us/step\n",
      "\u001b[1m31/31\u001b[0m \u001b[32m━━━━━━━━━━━━━━━━━━━━\u001b[0m\u001b[37m\u001b[0m \u001b[1m31s\u001b[0m 972ms/step\n",
      "\n",
      "🔍 Entrenando backbone: VGG16\n",
      "Downloading data from https://storage.googleapis.com/tensorflow/keras-applications/vgg16/vgg16_weights_tf_dim_ordering_tf_kernels_notop.h5\n",
      "\u001b[1m58889256/58889256\u001b[0m \u001b[32m━━━━━━━━━━━━━━━━━━━━\u001b[0m\u001b[37m\u001b[0m \u001b[1m2s\u001b[0m 0us/step\n",
      "\u001b[1m31/31\u001b[0m \u001b[32m━━━━━━━━━━━━━━━━━━━━\u001b[0m\u001b[37m\u001b[0m \u001b[1m49s\u001b[0m 2s/step\n"
     ]
    }
   ],
   "source": [
    "resultados = []\n",
    "\n",
    "for nombre, backbone_fn in backbones.items():\n",
    "    print(f\"\\n🔍 Entrenando backbone: {nombre}\")\n",
    "    start = time.time()\n",
    "\n",
    "    model = build_model(backbone_fn, input_shape=(224, 224, 3))\n",
    "    es = EarlyStopping(monitor=\"val_accuracy\", patience=2, restore_best_weights=True)\n",
    "\n",
    "    history = model.fit(\n",
    "        train_gen,\n",
    "        validation_data=val_gen,\n",
    "        epochs=5,\n",
    "        callbacks=[es],\n",
    "        verbose=0\n",
    "    )\n",
    "\n",
    "    val_acc = history.history[\"val_accuracy\"][-1]\n",
    "    val_loss = history.history[\"val_loss\"][-1]\n",
    "\n",
    "    # Evaluar F1\n",
    "    val_gen.reset()\n",
    "    y_true = val_gen.classes\n",
    "    y_pred_prob = model.predict(val_gen)\n",
    "    y_pred = (y_pred_prob > 0.5).astype(int)\n",
    "    f1 = f1_score(y_true, y_pred)\n",
    "\n",
    "    duracion = time.time() - start\n",
    "    resultados.append({\n",
    "        \"Backbone\": nombre,\n",
    "        \"Val Accuracy\": round(val_acc, 4),\n",
    "        \"Val Loss\": round(val_loss, 4),\n",
    "        \"F1 Score\": round(f1, 4),\n",
    "        \"Tiempo (s)\": int(duracion)\n",
    "    })\n"
   ]
  },
  {
   "cell_type": "markdown",
   "id": "57bafdd9",
   "metadata": {},
   "source": [
    "## Paso 6 – Comparativa final de resultados\n",
    "\n",
    "Mostramos los resultados ordenados por F1 Score para facilitar la selección del mejor modelo.\n"
   ]
  },
  {
   "cell_type": "code",
   "execution_count": 13,
   "id": "17f2e639",
   "metadata": {},
   "outputs": [
    {
     "data": {
      "text/html": [
       "<div>\n",
       "<style scoped>\n",
       "    .dataframe tbody tr th:only-of-type {\n",
       "        vertical-align: middle;\n",
       "    }\n",
       "\n",
       "    .dataframe tbody tr th {\n",
       "        vertical-align: top;\n",
       "    }\n",
       "\n",
       "    .dataframe thead th {\n",
       "        text-align: right;\n",
       "    }\n",
       "</style>\n",
       "<table border=\"1\" class=\"dataframe\">\n",
       "  <thead>\n",
       "    <tr style=\"text-align: right;\">\n",
       "      <th></th>\n",
       "      <th>Backbone</th>\n",
       "      <th>Val Accuracy</th>\n",
       "      <th>Val Loss</th>\n",
       "      <th>F1 Score</th>\n",
       "      <th>Tiempo (s)</th>\n",
       "    </tr>\n",
       "  </thead>\n",
       "  <tbody>\n",
       "    <tr>\n",
       "      <th>0</th>\n",
       "      <td>DenseNet121</td>\n",
       "      <td>0.6190</td>\n",
       "      <td>0.6517</td>\n",
       "      <td>0.5068</td>\n",
       "      <td>946</td>\n",
       "    </tr>\n",
       "    <tr>\n",
       "      <th>1</th>\n",
       "      <td>InceptionV3</td>\n",
       "      <td>0.6413</td>\n",
       "      <td>0.6361</td>\n",
       "      <td>0.4670</td>\n",
       "      <td>523</td>\n",
       "    </tr>\n",
       "    <tr>\n",
       "      <th>2</th>\n",
       "      <td>MobileNetV2</td>\n",
       "      <td>0.6353</td>\n",
       "      <td>0.6426</td>\n",
       "      <td>0.4395</td>\n",
       "      <td>187</td>\n",
       "    </tr>\n",
       "    <tr>\n",
       "      <th>3</th>\n",
       "      <td>NASNetMobile</td>\n",
       "      <td>0.6261</td>\n",
       "      <td>0.6526</td>\n",
       "      <td>0.4390</td>\n",
       "      <td>390</td>\n",
       "    </tr>\n",
       "    <tr>\n",
       "      <th>4</th>\n",
       "      <td>Xception</td>\n",
       "      <td>0.6596</td>\n",
       "      <td>0.6317</td>\n",
       "      <td>0.4233</td>\n",
       "      <td>1113</td>\n",
       "    </tr>\n",
       "    <tr>\n",
       "      <th>5</th>\n",
       "      <td>ResNet50</td>\n",
       "      <td>0.5988</td>\n",
       "      <td>0.6810</td>\n",
       "      <td>0.3956</td>\n",
       "      <td>852</td>\n",
       "    </tr>\n",
       "    <tr>\n",
       "      <th>6</th>\n",
       "      <td>VGG16</td>\n",
       "      <td>0.6272</td>\n",
       "      <td>0.6713</td>\n",
       "      <td>0.3917</td>\n",
       "      <td>2198</td>\n",
       "    </tr>\n",
       "    <tr>\n",
       "      <th>7</th>\n",
       "      <td>EfficientNetB0</td>\n",
       "      <td>0.5066</td>\n",
       "      <td>0.6942</td>\n",
       "      <td>0.0000</td>\n",
       "      <td>242</td>\n",
       "    </tr>\n",
       "  </tbody>\n",
       "</table>\n",
       "</div>"
      ],
      "text/plain": [
       "         Backbone  Val Accuracy  Val Loss  F1 Score  Tiempo (s)\n",
       "0     DenseNet121        0.6190    0.6517    0.5068         946\n",
       "1     InceptionV3        0.6413    0.6361    0.4670         523\n",
       "2     MobileNetV2        0.6353    0.6426    0.4395         187\n",
       "3    NASNetMobile        0.6261    0.6526    0.4390         390\n",
       "4        Xception        0.6596    0.6317    0.4233        1113\n",
       "5        ResNet50        0.5988    0.6810    0.3956         852\n",
       "6           VGG16        0.6272    0.6713    0.3917        2198\n",
       "7  EfficientNetB0        0.5066    0.6942    0.0000         242"
      ]
     },
     "execution_count": 13,
     "metadata": {},
     "output_type": "execute_result"
    }
   ],
   "source": [
    "df_resultados = pd.DataFrame(resultados)\n",
    "df_resultados = df_resultados.sort_values(by=\"F1 Score\", ascending=False).reset_index(drop=True)\n",
    "df_resultados\n"
   ]
  },
  {
   "cell_type": "markdown",
   "id": "ef6e6b45",
   "metadata": {},
   "source": [
    "## Paso 7 – Guardado de resultados\n",
    "\n",
    "Guardamos la tabla comparativa para documentación futura y trazabilidad del proceso de selección.\n"
   ]
  },
  {
   "cell_type": "code",
   "execution_count": 14,
   "id": "912a5b91",
   "metadata": {},
   "outputs": [],
   "source": [
    "df_resultados.to_csv(\"../models/resumen_backbones.csv\", index=False)\n"
   ]
  }
 ],
 "metadata": {
  "kernelspec": {
   "display_name": "env_multiclase_fatiga",
   "language": "python",
   "name": "python3"
  },
  "language_info": {
   "codemirror_mode": {
    "name": "ipython",
    "version": 3
   },
   "file_extension": ".py",
   "mimetype": "text/x-python",
   "name": "python",
   "nbconvert_exporter": "python",
   "pygments_lexer": "ipython3",
   "version": "3.10.10"
  }
 },
 "nbformat": 4,
 "nbformat_minor": 5
}
